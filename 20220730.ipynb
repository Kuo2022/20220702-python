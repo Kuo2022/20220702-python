{
  "nbformat": 4,
  "nbformat_minor": 0,
  "metadata": {
    "colab": {
      "name": "20220730.ipynb",
      "provenance": [],
      "authorship_tag": "ABX9TyPGedPPIhOw3rDMt/UMXQSJ",
      "include_colab_link": true
    },
    "kernelspec": {
      "name": "python3",
      "display_name": "Python 3"
    },
    "language_info": {
      "name": "python"
    }
  },
  "cells": [
    {
      "cell_type": "markdown",
      "metadata": {
        "id": "view-in-github",
        "colab_type": "text"
      },
      "source": [
        "<a href=\"https://colab.research.google.com/github/Kuo2022/20220702-python/blob/main/20220730.ipynb\" target=\"_parent\"><img src=\"https://colab.research.google.com/assets/colab-badge.svg\" alt=\"Open In Colab\"/></a>"
      ]
    },
    {
      "cell_type": "markdown",
      "source": [
        "##使用 Teachable Machine 幫我們訓練好的模型"
      ],
      "metadata": {
        "id": "4lbyUX9v6tJ4"
      }
    },
    {
      "cell_type": "code",
      "source": [
        "!unzip model.zip"
      ],
      "metadata": {
        "colab": {
          "base_uri": "https://localhost:8080/"
        },
        "id": "wh051jRE4bDJ",
        "outputId": "0db3c090-2335-4299-b2c3-6b343e1a5e8e"
      },
      "execution_count": 1,
      "outputs": [
        {
          "output_type": "stream",
          "name": "stdout",
          "text": [
            "Archive:  model.zip\n",
            " extracting: keras_model.h5          \n",
            " extracting: labels.txt              \n"
          ]
        }
      ]
    },
    {
      "cell_type": "code",
      "execution_count": 3,
      "metadata": {
        "colab": {
          "base_uri": "https://localhost:8080/"
        },
        "id": "nC1fgWKwoL9D",
        "outputId": "b65ffa0a-e339-4e29-eea1-d2f6aca9594e"
      },
      "outputs": [
        {
          "output_type": "stream",
          "name": "stderr",
          "text": [
            "WARNING:tensorflow:No training configuration found in the save file, so the model was *not* compiled. Compile it manually.\n"
          ]
        },
        {
          "output_type": "stream",
          "name": "stdout",
          "text": [
            "[[9.999726e-01 2.742523e-05]]\n"
          ]
        }
      ],
      "source": [
        "from keras.models import load_model\n",
        "from PIL import Image, ImageOps\n",
        "import numpy as np\n",
        "\n",
        "# Load the model\n",
        "model = load_model('keras_model.h5')\n",
        "\n",
        "# Create the array of the right shape to feed into the keras model\n",
        "# The 'length' or number of images you can put into the array is\n",
        "# determined by the first position in the shape tuple, in this case 1.\n",
        "data = np.ndarray(shape=(1, 224, 224, 3), dtype=np.float32)\n",
        "# Replace this with the path to your image\n",
        "image = Image.open('kuo.jpg')\n",
        "#resize the image to a 224x224 with the same strategy as in TM2:\n",
        "#resizing the image to be at least 224x224 and then cropping from the center\n",
        "size = (224, 224)\n",
        "image = ImageOps.fit(image, size, Image.ANTIALIAS)\n",
        "\n",
        "#turn the image into a numpy array\n",
        "image_array = np.asarray(image)\n",
        "# Normalize the image\n",
        "normalized_image_array = (image_array.astype(np.float32) / 127.0) - 1\n",
        "# Load the image into the array\n",
        "data[0] = normalized_image_array\n",
        "\n",
        "# run the inference\n",
        "prediction = model.predict(data)\n",
        "print(prediction)"
      ]
    },
    {
      "cell_type": "markdown",
      "source": [
        "##使用Gradio打包上面模型來做"
      ],
      "metadata": {
        "id": "IioasMsT7Mvo"
      }
    },
    {
      "cell_type": "code",
      "source": [
        "!pip install gradio"
      ],
      "metadata": {
        "id": "E5NhNEW27V0t"
      },
      "execution_count": null,
      "outputs": []
    },
    {
      "cell_type": "code",
      "source": [
        "def classify(image):\n",
        "  # Load the model\n",
        "  model = load_model('keras_model.h5')\n",
        "\n",
        "  # Create the array of the right shape to feed into the keras model\n",
        "  # The 'length' or number of images you can put into the array is\n",
        "  # determined by the first position in the shape tuple, in this case 1.\n",
        "  data = np.ndarray(shape=(1, 224, 224, 3), dtype=np.float32)\n",
        "  #resize the image to a 224x224 with the same strategy as in TM2:\n",
        "  #resizing the image to be at least 224x224 and then cropping from the center\n",
        "  size = (224, 224)\n",
        "  image = ImageOps.fit(image, size, Image.ANTIALIAS)\n",
        "\n",
        "  #turn the image into a numpy array\n",
        "  image_array = np.asarray(image)\n",
        "  # Normalize the image\n",
        "  normalized_image_array = (image_array.astype(np.float32) / 127.0) - 1\n",
        "  # Load the image into the array\n",
        "  data[0] = normalized_image_array\n",
        "\n",
        "  # run the inference\n",
        "  prediction = model.predict(data)\n",
        "  labels = [\"戴著口罩的Kuo\", \"沒有戴口罩的Kuo\"]\n",
        "  return labels[np.argmax(prediction)]"
      ],
      "metadata": {
        "id": "_LAfqZIH9YNO"
      },
      "execution_count": 6,
      "outputs": []
    },
    {
      "cell_type": "code",
      "source": [
        "import gradio as gr"
      ],
      "metadata": {
        "id": "MywP6bJZ9jqL"
      },
      "execution_count": 7,
      "outputs": []
    },
    {
      "cell_type": "code",
      "source": [
        "gr.Interface(classify, inputs=gr.Image(type=\"pil\"), outputs=\"text\").launch(share=True)"
      ],
      "metadata": {
        "id": "AsippPiP9oJ0"
      },
      "execution_count": null,
      "outputs": []
    },
    {
      "cell_type": "code",
      "source": [
        "x = [1, 2, 3]"
      ],
      "metadata": {
        "id": "fPvAYz8fFsyp"
      },
      "execution_count": 9,
      "outputs": []
    },
    {
      "cell_type": "code",
      "source": [
        "np.argmax(x)"
      ],
      "metadata": {
        "colab": {
          "base_uri": "https://localhost:8080/"
        },
        "id": "1JseEtXxFxH5",
        "outputId": "250e2d52-0e5c-4539-8232-e1eaa0bb7ba6"
      },
      "execution_count": 10,
      "outputs": [
        {
          "output_type": "execute_result",
          "data": {
            "text/plain": [
              "2"
            ]
          },
          "metadata": {},
          "execution_count": 10
        }
      ]
    },
    {
      "cell_type": "markdown",
      "source": [
        "##練習\n",
        "請輸出0-15的二進位及十六進位數值"
      ],
      "metadata": {
        "id": "0juPvtcBGYOu"
      }
    },
    {
      "cell_type": "code",
      "source": [
        "for i in range(16):\n",
        "  print(f\"{i:2} 的二進位是：{i}\")"
      ],
      "metadata": {
        "colab": {
          "base_uri": "https://localhost:8080/"
        },
        "id": "BjeqMxT8G4c2",
        "outputId": "8f07c1bf-74d0-4389-c5a1-5e6016540b01"
      },
      "execution_count": 12,
      "outputs": [
        {
          "output_type": "stream",
          "name": "stdout",
          "text": [
            " 0 的二進位是：0\n",
            " 1 的二進位是：1\n",
            " 2 的二進位是：2\n",
            " 3 的二進位是：3\n",
            " 4 的二進位是：4\n",
            " 5 的二進位是：5\n",
            " 6 的二進位是：6\n",
            " 7 的二進位是：7\n",
            " 8 的二進位是：8\n",
            " 9 的二進位是：9\n",
            "10 的二進位是：10\n",
            "11 的二進位是：11\n",
            "12 的二進位是：12\n",
            "13 的二進位是：13\n",
            "14 的二進位是：14\n",
            "15 的二進位是：15\n"
          ]
        }
      ]
    },
    {
      "cell_type": "code",
      "source": [
        "for i in range(16):\n",
        "  print(f\"{i:02} 的二進位是：{i}\")"
      ],
      "metadata": {
        "colab": {
          "base_uri": "https://localhost:8080/"
        },
        "id": "4C96gDsmG7N2",
        "outputId": "c4732c62-e953-4f21-9e65-8e5d6ee0567a"
      },
      "execution_count": 13,
      "outputs": [
        {
          "output_type": "stream",
          "name": "stdout",
          "text": [
            "00 的二進位是：0\n",
            "01 的二進位是：1\n",
            "02 的二進位是：2\n",
            "03 的二進位是：3\n",
            "04 的二進位是：4\n",
            "05 的二進位是：5\n",
            "06 的二進位是：6\n",
            "07 的二進位是：7\n",
            "08 的二進位是：8\n",
            "09 的二進位是：9\n",
            "10 的二進位是：10\n",
            "11 的二進位是：11\n",
            "12 的二進位是：12\n",
            "13 的二進位是：13\n",
            "14 的二進位是：14\n",
            "15 的二進位是：15\n"
          ]
        }
      ]
    },
    {
      "cell_type": "code",
      "source": [
        "for i in range(16):\n",
        "  print(f\"{i:02} 的二進位是：{i:04b}\")"
      ],
      "metadata": {
        "colab": {
          "base_uri": "https://localhost:8080/"
        },
        "id": "tFt1doP9HEt2",
        "outputId": "f3b15c6c-b2ca-4cb9-9b06-b08dd0c3a028"
      },
      "execution_count": 17,
      "outputs": [
        {
          "output_type": "stream",
          "name": "stdout",
          "text": [
            "00 的二進位是：0000\n",
            "01 的二進位是：0001\n",
            "02 的二進位是：0010\n",
            "03 的二進位是：0011\n",
            "04 的二進位是：0100\n",
            "05 的二進位是：0101\n",
            "06 的二進位是：0110\n",
            "07 的二進位是：0111\n",
            "08 的二進位是：1000\n",
            "09 的二進位是：1001\n",
            "10 的二進位是：1010\n",
            "11 的二進位是：1011\n",
            "12 的二進位是：1100\n",
            "13 的二進位是：1101\n",
            "14 的二進位是：1110\n",
            "15 的二進位是：1111\n"
          ]
        }
      ]
    }
  ]
}