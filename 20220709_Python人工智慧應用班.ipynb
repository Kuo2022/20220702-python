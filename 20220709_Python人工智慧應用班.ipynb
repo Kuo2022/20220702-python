{
  "nbformat": 4,
  "nbformat_minor": 0,
  "metadata": {
    "colab": {
      "name": "20220709-Python人工智慧應用班",
      "provenance": [],
      "authorship_tag": "ABX9TyNjUd0MW4dSrneyWCv6Ogg1",
      "include_colab_link": true
    },
    "kernelspec": {
      "name": "python3",
      "display_name": "Python 3"
    },
    "language_info": {
      "name": "python"
    }
  },
  "cells": [
    {
      "cell_type": "markdown",
      "metadata": {
        "id": "view-in-github",
        "colab_type": "text"
      },
      "source": [
        "<a href=\"https://colab.research.google.com/github/Kuo2022/20220702-python/blob/main/20220709_Python%E4%BA%BA%E5%B7%A5%E6%99%BA%E6%85%A7%E6%87%89%E7%94%A8%E7%8F%AD.ipynb\" target=\"_parent\"><img src=\"https://colab.research.google.com/assets/colab-badge.svg\" alt=\"Open In Colab\"/></a>"
      ]
    },
    {
      "cell_type": "markdown",
      "source": [
        "##初學者需要知道的概念\n",
        "###資料型態\n",
        " •int==>整數(0,1,2,...)\n",
        "\n",
        " •float==>浮點數(3.14,1.1,...)\n",
        "\n",
        " •bool==>布林變數(True,False)\n",
        "\n",
        " •str==>字串(\"dog\",\"cat\",...)\n",
        "###容器型別\n",
        " •list==〉串列[ ]\n",
        "\n",
        " •tuple==〉元組( )\n",
        "\n",
        " •dict==〉字典{ }\n",
        "\n",
        " •set==〉集合{ }\n",
        "###基礎語法\n",
        " •loops==〉迴圈：重複執行程式區塊。\n",
        "\n",
        " •functions==〉函式\n",
        "\n",
        " •if statements==〉條件式：選擇性執行程式區塊。\n",
        "\n",
        " •exception handling==〉例外處理\n",
        "\n",
        "\n"
      ],
      "metadata": {
        "id": "LHimHF3wgcp0"
      }
    },
    {
      "cell_type": "markdown",
      "source": [
        "##loops:for,while"
      ],
      "metadata": {
        "id": "aoKjFhFbmrRQ"
      }
    },
    {
      "cell_type": "markdown",
      "source": [
        "##for loops\n",
        "\n",
        "\n",
        "###基本語法\n",
        "\n",
        "...python\n",
        "\n",
        "for 變數 in 資料結構\n",
        "\n",
        " 程式區塊（裡面可以使用上面的變數）\n"
      ],
      "metadata": {
        "id": "Vv2dyJngm51e"
      }
    },
    {
      "cell_type": "code",
      "source": [
        ""
      ],
      "metadata": {
        "id": "2Xas42n_sGGv"
      },
      "execution_count": null,
      "outputs": []
    },
    {
      "cell_type": "code",
      "source": [
        "for i in range(3):\n",
        " print(\"程式區塊開始\")\n",
        " print(i)\n",
        " print(\"程式區塊結束\")"
      ],
      "metadata": {
        "id": "_Gnear5zoF_N",
        "outputId": "fbd78858-f68b-41fb-d13e-2e2498deb4e8",
        "colab": {
          "base_uri": "https://localhost:8080/"
        }
      },
      "execution_count": 9,
      "outputs": [
        {
          "output_type": "stream",
          "name": "stdout",
          "text": [
            "程式區塊開始\n",
            "0\n",
            "程式區塊結束\n",
            "程式區塊開始\n",
            "1\n",
            "程式區塊結束\n",
            "程式區塊開始\n",
            "2\n",
            "程式區塊結束\n"
          ]
        }
      ]
    },
    {
      "cell_type": "code",
      "source": [
        "#縮排變更的結果\n",
        "for i in range(3):\n",
        " print(\"程式區塊開始\")\n",
        " print(i)\n",
        "print(\"程式區塊結束\")"
      ],
      "metadata": {
        "colab": {
          "base_uri": "https://localhost:8080/"
        },
        "id": "-IId9EfotBA9",
        "outputId": "e4859b67-f07a-435d-956e-250ebe7b2205"
      },
      "execution_count": 13,
      "outputs": [
        {
          "output_type": "stream",
          "name": "stdout",
          "text": [
            "程式區塊開始\n",
            "0\n",
            "程式區塊開始\n",
            "1\n",
            "程式區塊開始\n",
            "2\n",
            "程式區塊結束\n"
          ]
        }
      ]
    },
    {
      "cell_type": "code",
      "source": [
        "#hint\n",
        "for i in range(2,10):\n",
        "  for j in range(2,10):\n",
        "   print(i,\"x\",j)"
      ],
      "metadata": {
        "colab": {
          "base_uri": "https://localhost:8080/"
        },
        "id": "AbLNRDcZrIkV",
        "outputId": "8ed4ea51-8165-40c1-d6bb-45cdd971e7a2"
      },
      "execution_count": 11,
      "outputs": [
        {
          "output_type": "stream",
          "name": "stdout",
          "text": [
            "2 x 2\n",
            "2 x 3\n",
            "2 x 4\n",
            "2 x 5\n",
            "2 x 6\n",
            "2 x 7\n",
            "2 x 8\n",
            "2 x 9\n",
            "3 x 2\n",
            "3 x 3\n",
            "3 x 4\n",
            "3 x 5\n",
            "3 x 6\n",
            "3 x 7\n",
            "3 x 8\n",
            "3 x 9\n",
            "4 x 2\n",
            "4 x 3\n",
            "4 x 4\n",
            "4 x 5\n",
            "4 x 6\n",
            "4 x 7\n",
            "4 x 8\n",
            "4 x 9\n",
            "5 x 2\n",
            "5 x 3\n",
            "5 x 4\n",
            "5 x 5\n",
            "5 x 6\n",
            "5 x 7\n",
            "5 x 8\n",
            "5 x 9\n",
            "6 x 2\n",
            "6 x 3\n",
            "6 x 4\n",
            "6 x 5\n",
            "6 x 6\n",
            "6 x 7\n",
            "6 x 8\n",
            "6 x 9\n",
            "7 x 2\n",
            "7 x 3\n",
            "7 x 4\n",
            "7 x 5\n",
            "7 x 6\n",
            "7 x 7\n",
            "7 x 8\n",
            "7 x 9\n",
            "8 x 2\n",
            "8 x 3\n",
            "8 x 4\n",
            "8 x 5\n",
            "8 x 6\n",
            "8 x 7\n",
            "8 x 8\n",
            "8 x 9\n",
            "9 x 2\n",
            "9 x 3\n",
            "9 x 4\n",
            "9 x 5\n",
            "9 x 6\n",
            "9 x 7\n",
            "9 x 8\n",
            "9 x 9\n"
          ]
        }
      ]
    },
    {
      "cell_type": "code",
      "source": [
        "#九九乘法表\n",
        "for i in range(2,10):\n",
        "  for j in range(2,10):\n",
        "   print(i,\"x\",j,\"=\",i*j)"
      ],
      "metadata": {
        "outputId": "9ff3b81d-3fc3-4762-90e5-88f7989ab7f9",
        "colab": {
          "base_uri": "https://localhost:8080/"
        },
        "id": "8qxtOG4yslbh"
      },
      "execution_count": 12,
      "outputs": [
        {
          "output_type": "stream",
          "name": "stdout",
          "text": [
            "2 x 2 = 4\n",
            "2 x 3 = 6\n",
            "2 x 4 = 8\n",
            "2 x 5 = 10\n",
            "2 x 6 = 12\n",
            "2 x 7 = 14\n",
            "2 x 8 = 16\n",
            "2 x 9 = 18\n",
            "3 x 2 = 6\n",
            "3 x 3 = 9\n",
            "3 x 4 = 12\n",
            "3 x 5 = 15\n",
            "3 x 6 = 18\n",
            "3 x 7 = 21\n",
            "3 x 8 = 24\n",
            "3 x 9 = 27\n",
            "4 x 2 = 8\n",
            "4 x 3 = 12\n",
            "4 x 4 = 16\n",
            "4 x 5 = 20\n",
            "4 x 6 = 24\n",
            "4 x 7 = 28\n",
            "4 x 8 = 32\n",
            "4 x 9 = 36\n",
            "5 x 2 = 10\n",
            "5 x 3 = 15\n",
            "5 x 4 = 20\n",
            "5 x 5 = 25\n",
            "5 x 6 = 30\n",
            "5 x 7 = 35\n",
            "5 x 8 = 40\n",
            "5 x 9 = 45\n",
            "6 x 2 = 12\n",
            "6 x 3 = 18\n",
            "6 x 4 = 24\n",
            "6 x 5 = 30\n",
            "6 x 6 = 36\n",
            "6 x 7 = 42\n",
            "6 x 8 = 48\n",
            "6 x 9 = 54\n",
            "7 x 2 = 14\n",
            "7 x 3 = 21\n",
            "7 x 4 = 28\n",
            "7 x 5 = 35\n",
            "7 x 6 = 42\n",
            "7 x 7 = 49\n",
            "7 x 8 = 56\n",
            "7 x 9 = 63\n",
            "8 x 2 = 16\n",
            "8 x 3 = 24\n",
            "8 x 4 = 32\n",
            "8 x 5 = 40\n",
            "8 x 6 = 48\n",
            "8 x 7 = 56\n",
            "8 x 8 = 64\n",
            "8 x 9 = 72\n",
            "9 x 2 = 18\n",
            "9 x 3 = 27\n",
            "9 x 4 = 36\n",
            "9 x 5 = 45\n",
            "9 x 6 = 54\n",
            "9 x 7 = 63\n",
            "9 x 8 = 72\n",
            "9 x 9 = 81\n"
          ]
        }
      ]
    },
    {
      "cell_type": "markdown",
      "source": [
        "## 寫一個九九乘法表 (可以使用巢狀迴圈)\n",
        "\n",
        "巢狀迴圈：nested loops\n",
        "\n",
        "可以用 for 迴圈或 while 迴圈做做看！"
      ],
      "metadata": {
        "id": "RKzDyqAQ92uG"
      }
    },
    {
      "cell_type": "markdown",
      "source": [
        "### 方法一"
      ],
      "metadata": {
        "id": "KZRtu50b9-dZ"
      }
    },
    {
      "cell_type": "code",
      "source": [
        "for i in range(5):\n",
        "  print(i)"
      ],
      "metadata": {
        "colab": {
          "base_uri": "https://localhost:8080/"
        },
        "id": "wGbIILdM-Cb4",
        "outputId": "5117b79c-9889-41e6-cb4d-f3043e987edf"
      },
      "execution_count": 34,
      "outputs": [
        {
          "output_type": "stream",
          "name": "stdout",
          "text": [
            "0\n",
            "1\n",
            "2\n",
            "3\n",
            "4\n"
          ]
        }
      ]
    },
    {
      "cell_type": "code",
      "source": [
        "list(range(5))"
      ],
      "metadata": {
        "colab": {
          "base_uri": "https://localhost:8080/"
        },
        "id": "Lmknx_Nc-Gro",
        "outputId": "45d0755e-4c48-4b56-ddec-6fc696ceac04"
      },
      "execution_count": 35,
      "outputs": [
        {
          "output_type": "execute_result",
          "data": {
            "text/plain": [
              "[0, 1, 2, 3, 4]"
            ]
          },
          "metadata": {},
          "execution_count": 35
        }
      ]
    },
    {
      "cell_type": "code",
      "source": [
        "list(range(2, 10))"
      ],
      "metadata": {
        "colab": {
          "base_uri": "https://localhost:8080/"
        },
        "id": "UdScYgeo-K73",
        "outputId": "e8def7d7-cfd0-411d-9992-7dadcee17a78"
      },
      "execution_count": 36,
      "outputs": [
        {
          "output_type": "execute_result",
          "data": {
            "text/plain": [
              "[2, 3, 4, 5, 6, 7, 8, 9]"
            ]
          },
          "metadata": {},
          "execution_count": 36
        }
      ]
    },
    {
      "cell_type": "code",
      "source": [
        "for i in range(2, 10):\n",
        "  print(i)"
      ],
      "metadata": {
        "colab": {
          "base_uri": "https://localhost:8080/"
        },
        "id": "bMXr84Zk-PkO",
        "outputId": "1331d057-0111-4044-8145-23a123fb5aa2"
      },
      "execution_count": 37,
      "outputs": [
        {
          "output_type": "stream",
          "name": "stdout",
          "text": [
            "2\n",
            "3\n",
            "4\n",
            "5\n",
            "6\n",
            "7\n",
            "8\n",
            "9\n"
          ]
        }
      ]
    },
    {
      "cell_type": "code",
      "source": [
        "# hint\n",
        "for i in range(2, 10):\n",
        "  for j in range(2, 10):\n",
        "    print(i, \"x\", j)"
      ],
      "metadata": {
        "colab": {
          "base_uri": "https://localhost:8080/"
        },
        "id": "fVDDXnYb-U-n",
        "outputId": "ef59a9d7-ed07-4046-f71b-262065f873e1"
      },
      "execution_count": 38,
      "outputs": [
        {
          "output_type": "stream",
          "name": "stdout",
          "text": [
            "2 x 2\n",
            "2 x 3\n",
            "2 x 4\n",
            "2 x 5\n",
            "2 x 6\n",
            "2 x 7\n",
            "2 x 8\n",
            "2 x 9\n",
            "3 x 2\n",
            "3 x 3\n",
            "3 x 4\n",
            "3 x 5\n",
            "3 x 6\n",
            "3 x 7\n",
            "3 x 8\n",
            "3 x 9\n",
            "4 x 2\n",
            "4 x 3\n",
            "4 x 4\n",
            "4 x 5\n",
            "4 x 6\n",
            "4 x 7\n",
            "4 x 8\n",
            "4 x 9\n",
            "5 x 2\n",
            "5 x 3\n",
            "5 x 4\n",
            "5 x 5\n",
            "5 x 6\n",
            "5 x 7\n",
            "5 x 8\n",
            "5 x 9\n",
            "6 x 2\n",
            "6 x 3\n",
            "6 x 4\n",
            "6 x 5\n",
            "6 x 6\n",
            "6 x 7\n",
            "6 x 8\n",
            "6 x 9\n",
            "7 x 2\n",
            "7 x 3\n",
            "7 x 4\n",
            "7 x 5\n",
            "7 x 6\n",
            "7 x 7\n",
            "7 x 8\n",
            "7 x 9\n",
            "8 x 2\n",
            "8 x 3\n",
            "8 x 4\n",
            "8 x 5\n",
            "8 x 6\n",
            "8 x 7\n",
            "8 x 8\n",
            "8 x 9\n",
            "9 x 2\n",
            "9 x 3\n",
            "9 x 4\n",
            "9 x 5\n",
            "9 x 6\n",
            "9 x 7\n",
            "9 x 8\n",
            "9 x 9\n"
          ]
        }
      ]
    },
    {
      "cell_type": "code",
      "source": [
        "for i in range(2, 10):\n",
        "  for j in range(2, 10):\n",
        "    print(i, \"x\", j, \"=\", i*j)"
      ],
      "metadata": {
        "colab": {
          "base_uri": "https://localhost:8080/"
        },
        "id": "VTs6640P-XMs",
        "outputId": "6b9afa87-215d-406a-d041-91b5ab90c618"
      },
      "execution_count": 39,
      "outputs": [
        {
          "output_type": "stream",
          "name": "stdout",
          "text": [
            "2 x 2 = 4\n",
            "2 x 3 = 6\n",
            "2 x 4 = 8\n",
            "2 x 5 = 10\n",
            "2 x 6 = 12\n",
            "2 x 7 = 14\n",
            "2 x 8 = 16\n",
            "2 x 9 = 18\n",
            "3 x 2 = 6\n",
            "3 x 3 = 9\n",
            "3 x 4 = 12\n",
            "3 x 5 = 15\n",
            "3 x 6 = 18\n",
            "3 x 7 = 21\n",
            "3 x 8 = 24\n",
            "3 x 9 = 27\n",
            "4 x 2 = 8\n",
            "4 x 3 = 12\n",
            "4 x 4 = 16\n",
            "4 x 5 = 20\n",
            "4 x 6 = 24\n",
            "4 x 7 = 28\n",
            "4 x 8 = 32\n",
            "4 x 9 = 36\n",
            "5 x 2 = 10\n",
            "5 x 3 = 15\n",
            "5 x 4 = 20\n",
            "5 x 5 = 25\n",
            "5 x 6 = 30\n",
            "5 x 7 = 35\n",
            "5 x 8 = 40\n",
            "5 x 9 = 45\n",
            "6 x 2 = 12\n",
            "6 x 3 = 18\n",
            "6 x 4 = 24\n",
            "6 x 5 = 30\n",
            "6 x 6 = 36\n",
            "6 x 7 = 42\n",
            "6 x 8 = 48\n",
            "6 x 9 = 54\n",
            "7 x 2 = 14\n",
            "7 x 3 = 21\n",
            "7 x 4 = 28\n",
            "7 x 5 = 35\n",
            "7 x 6 = 42\n",
            "7 x 7 = 49\n",
            "7 x 8 = 56\n",
            "7 x 9 = 63\n",
            "8 x 2 = 16\n",
            "8 x 3 = 24\n",
            "8 x 4 = 32\n",
            "8 x 5 = 40\n",
            "8 x 6 = 48\n",
            "8 x 7 = 56\n",
            "8 x 8 = 64\n",
            "8 x 9 = 72\n",
            "9 x 2 = 18\n",
            "9 x 3 = 27\n",
            "9 x 4 = 36\n",
            "9 x 5 = 45\n",
            "9 x 6 = 54\n",
            "9 x 7 = 63\n",
            "9 x 8 = 72\n",
            "9 x 9 = 81\n"
          ]
        }
      ]
    },
    {
      "cell_type": "markdown",
      "source": [
        "##方法二"
      ],
      "metadata": {
        "id": "wMOYYtOsuEVs"
      }
    },
    {
      "cell_type": "markdown",
      "source": [
        "我想要印出九九乘法表(像上面一樣)！\n",
        "\n",
        "請問底下的程式，哪裡錯了？"
      ],
      "metadata": {
        "id": "nka-W9twuMWc"
      }
    },
    {
      "cell_type": "code",
      "source": [
        "i = 2\n",
        "j = 2\n",
        "while i < 10:\n",
        "  while j < 10:\n",
        "    print(i, \"x\", j, \"=\", i*j)\n",
        "    j = j + 1\n",
        "  i = i + 1"
      ],
      "metadata": {
        "colab": {
          "base_uri": "https://localhost:8080/"
        },
        "id": "IiiwEPCz7MJY",
        "outputId": "fb1dc979-bc2e-457e-b14f-fee156338c77"
      },
      "execution_count": 40,
      "outputs": [
        {
          "output_type": "stream",
          "name": "stdout",
          "text": [
            "2 x 2 = 4\n",
            "2 x 3 = 6\n",
            "2 x 4 = 8\n",
            "2 x 5 = 10\n",
            "2 x 6 = 12\n",
            "2 x 7 = 14\n",
            "2 x 8 = 16\n",
            "2 x 9 = 18\n"
          ]
        }
      ]
    },
    {
      "cell_type": "code",
      "source": [
        "i = 2\n",
        "while i < 10:\n",
        "  j = 2\n",
        "  while j < 10:\n",
        "    print(i, \"x\", j, \"=\", i*j)\n",
        "    j = j + 1\n",
        "  i = i + 1"
      ],
      "metadata": {
        "colab": {
          "base_uri": "https://localhost:8080/"
        },
        "id": "X8h4A41e-fKg",
        "outputId": "cc4f9c67-f41d-4968-f3fa-b4a2a10d356b"
      },
      "execution_count": 41,
      "outputs": [
        {
          "output_type": "stream",
          "name": "stdout",
          "text": [
            "2 x 2 = 4\n",
            "2 x 3 = 6\n",
            "2 x 4 = 8\n",
            "2 x 5 = 10\n",
            "2 x 6 = 12\n",
            "2 x 7 = 14\n",
            "2 x 8 = 16\n",
            "2 x 9 = 18\n",
            "3 x 2 = 6\n",
            "3 x 3 = 9\n",
            "3 x 4 = 12\n",
            "3 x 5 = 15\n",
            "3 x 6 = 18\n",
            "3 x 7 = 21\n",
            "3 x 8 = 24\n",
            "3 x 9 = 27\n",
            "4 x 2 = 8\n",
            "4 x 3 = 12\n",
            "4 x 4 = 16\n",
            "4 x 5 = 20\n",
            "4 x 6 = 24\n",
            "4 x 7 = 28\n",
            "4 x 8 = 32\n",
            "4 x 9 = 36\n",
            "5 x 2 = 10\n",
            "5 x 3 = 15\n",
            "5 x 4 = 20\n",
            "5 x 5 = 25\n",
            "5 x 6 = 30\n",
            "5 x 7 = 35\n",
            "5 x 8 = 40\n",
            "5 x 9 = 45\n",
            "6 x 2 = 12\n",
            "6 x 3 = 18\n",
            "6 x 4 = 24\n",
            "6 x 5 = 30\n",
            "6 x 6 = 36\n",
            "6 x 7 = 42\n",
            "6 x 8 = 48\n",
            "6 x 9 = 54\n",
            "7 x 2 = 14\n",
            "7 x 3 = 21\n",
            "7 x 4 = 28\n",
            "7 x 5 = 35\n",
            "7 x 6 = 42\n",
            "7 x 7 = 49\n",
            "7 x 8 = 56\n",
            "7 x 9 = 63\n",
            "8 x 2 = 16\n",
            "8 x 3 = 24\n",
            "8 x 4 = 32\n",
            "8 x 5 = 40\n",
            "8 x 6 = 48\n",
            "8 x 7 = 56\n",
            "8 x 8 = 64\n",
            "8 x 9 = 72\n",
            "9 x 2 = 18\n",
            "9 x 3 = 27\n",
            "9 x 4 = 36\n",
            "9 x 5 = 45\n",
            "9 x 6 = 54\n",
            "9 x 7 = 63\n",
            "9 x 8 = 72\n",
            "9 x 9 = 81\n"
          ]
        }
      ]
    },
    {
      "cell_type": "markdown",
      "source": [
        "#條件式（if statements)\n",
        "##基本語法：\n",
        "\n",
        "###語法一：\n",
        "使用條件來決定程定區塊是否執行。\n",
        "\n",
        "...python\n",
        "\n",
        "if 條件式：\n",
        "\n",
        " 程式區塊\n",
        "\n",
        "...\n",
        "\n"
      ],
      "metadata": {
        "id": "tVNdnBqpuXD0"
      }
    },
    {
      "cell_type": "code",
      "source": [
        "a=3\n",
        "b=2\n",
        "if a>b:\n",
        "  print(\"a>b\")\n"
      ],
      "metadata": {
        "colab": {
          "base_uri": "https://localhost:8080/"
        },
        "id": "NU_OyMLPwh1V",
        "outputId": "cfd11029-16bb-4ec6-9463-c40bb15cdeed"
      },
      "execution_count": 14,
      "outputs": [
        {
          "output_type": "stream",
          "name": "stdout",
          "text": [
            "a>b\n"
          ]
        }
      ]
    },
    {
      "cell_type": "markdown",
      "source": [
        "###語法二： 使用條件式來決定執行程式區塊1還是程式區塊2。\n",
        "\n",
        "...python\n",
        "\n",
        "if 條件式：\n",
        "\n",
        "程式區塊1\n",
        "\n",
        "else:\n",
        "\n",
        "程式區塊2\n",
        "\n",
        "...\n",
        "\n"
      ],
      "metadata": {
        "id": "483fjoDkxFiU"
      }
    },
    {
      "cell_type": "markdown",
      "source": [
        "###語法三： 使用條件式來決定執行程式區塊1,程式區塊2還是程式區塊3。\n",
        "\n",
        "...python\n",
        "\n",
        "if 條件式：\n",
        "\n",
        "程式區塊1\n",
        "\n",
        "elif:\n",
        "\n",
        "程式區塊2\n",
        "\n",
        "else:\n",
        "\n",
        "程式區塊3\n",
        "\n",
        "..."
      ],
      "metadata": {
        "id": "X3oi2WTRxRJk"
      }
    },
    {
      "cell_type": "code",
      "source": [
        "a=2\n",
        "b=2\n",
        "if a>b:\n",
        "  print(\"a>b\")\n",
        "elif a<b:\n",
        "  print(\"a<b\")\n",
        "else:\n",
        "  print(\"a=b\")\n"
      ],
      "metadata": {
        "colab": {
          "base_uri": "https://localhost:8080/"
        },
        "id": "ifo0aQ2dxk6D",
        "outputId": "590a2577-13cf-4263-af45-cae1a421d5d6"
      },
      "execution_count": 17,
      "outputs": [
        {
          "output_type": "stream",
          "name": "stdout",
          "text": [
            "a=b\n"
          ]
        }
      ]
    },
    {
      "cell_type": "markdown",
      "source": [
        "## 練習\n",
        "\n",
        "請計算 bmi 並判斷體位。\n",
        "\n",
        "$$ bmi = \\frac{體重(公斤)}{身高(公尺)^2} $$\n",
        "\n",
        "|條件|體衛|\n",
        "|:-:|:-:|\n",
        "|bmi < 18 | 體重過輕 |\n",
        "|18 <= bmi < 24 | 健康體位 |\n",
        "|bmi > 24 | 體重過重| "
      ],
      "metadata": {
        "id": "rG9qsfJ3ywdL"
      }
    },
    {
      "cell_type": "code",
      "source": [
        "w=80\n",
        "h=1.83\n",
        "bmi=w/(h**2)\n",
        "bmi"
      ],
      "metadata": {
        "colab": {
          "base_uri": "https://localhost:8080/"
        },
        "id": "2m2yMtgCzi-B",
        "outputId": "d826d7e8-dc89-4fd4-a3f2-3c5f16c23db0"
      },
      "execution_count": 20,
      "outputs": [
        {
          "output_type": "execute_result",
          "data": {
            "text/plain": [
              "23.888440980620498"
            ]
          },
          "metadata": {},
          "execution_count": 20
        }
      ]
    },
    {
      "cell_type": "code",
      "source": [
        "if bmi<18:\n",
        "  print(\"體重過輕\")\n",
        "elif bmi>24:\n",
        "  print(\"體重過重\")\n",
        "else:\n",
        "  print(\"健康體位\")"
      ],
      "metadata": {
        "colab": {
          "base_uri": "https://localhost:8080/"
        },
        "id": "sSAPum7G0Bu8",
        "outputId": "7fa96b2b-6751-4892-8af6-550a75fb851c"
      },
      "execution_count": 19,
      "outputs": [
        {
          "output_type": "stream",
          "name": "stdout",
          "text": [
            "健康體位\n"
          ]
        }
      ]
    },
    {
      "cell_type": "code",
      "source": [
        "#分辨print及return的不同\n",
        "def health1(w, h):\n",
        "  bmi = w/(h**2)\n",
        "  if bmi < 18:\n",
        "    print(\"體重過輕\")\n",
        "  elif bmi > 24:\n",
        "    print(\"體重過重\")\n",
        "  else:\n",
        "    print(\"健康體位\")"
      ],
      "metadata": {
        "id": "0QGmvtow5rJf"
      },
      "execution_count": 23,
      "outputs": []
    },
    {
      "cell_type": "code",
      "source": [
        "health1(80, 1.83)"
      ],
      "metadata": {
        "colab": {
          "base_uri": "https://localhost:8080/"
        },
        "id": "Xz7FMIMj53_L",
        "outputId": "c7ef80b8-9e43-405d-ad5f-a88e3196ee91"
      },
      "execution_count": 24,
      "outputs": [
        {
          "output_type": "stream",
          "name": "stdout",
          "text": [
            "健康體位\n"
          ]
        }
      ]
    },
    {
      "cell_type": "code",
      "source": [
        "def health2(w, h):\n",
        "  bmi = w/(h**2)\n",
        "  if bmi < 18:\n",
        "    return \"體重過輕\"\n",
        "  elif bmi > 24:\n",
        "    return \"體重過重\"\n",
        "  else:\n",
        "    return \"健康體位\""
      ],
      "metadata": {
        "id": "FlyBkSIv26L5"
      },
      "execution_count": 25,
      "outputs": []
    },
    {
      "cell_type": "code",
      "source": [
        "health2(80, 1.83)"
      ],
      "metadata": {
        "colab": {
          "base_uri": "https://localhost:8080/",
          "height": 36
        },
        "id": "BGh23pmo6GU5",
        "outputId": "997efb59-a7e5-49f1-e720-939917712cdb"
      },
      "execution_count": 26,
      "outputs": [
        {
          "output_type": "execute_result",
          "data": {
            "text/plain": [
              "'健康體位'"
            ],
            "application/vnd.google.colaboratory.intrinsic+json": {
              "type": "string"
            }
          },
          "metadata": {},
          "execution_count": 26
        }
      ]
    },
    {
      "cell_type": "code",
      "source": [
        "x = health1(80, 1.83)\n",
        "y = health2(80, 1.83)"
      ],
      "metadata": {
        "colab": {
          "base_uri": "https://localhost:8080/"
        },
        "id": "6793y5HO6Mf2",
        "outputId": "2a60f2e8-fa7e-4a56-9720-bf031d75cda9"
      },
      "execution_count": 27,
      "outputs": [
        {
          "output_type": "stream",
          "name": "stdout",
          "text": [
            "健康體位\n"
          ]
        }
      ]
    },
    {
      "cell_type": "code",
      "source": [
        "#health1用print只是在螢幕上輸出，並無回傳資料。\n",
        "print(x)"
      ],
      "metadata": {
        "colab": {
          "base_uri": "https://localhost:8080/"
        },
        "id": "6-Fuj-Z76TAf",
        "outputId": "7d80a550-a606-45b5-e0e3-6b2b72a113a6"
      },
      "execution_count": 30,
      "outputs": [
        {
          "output_type": "stream",
          "name": "stdout",
          "text": [
            "None\n"
          ]
        }
      ]
    },
    {
      "cell_type": "code",
      "source": [
        "print(y)"
      ],
      "metadata": {
        "colab": {
          "base_uri": "https://localhost:8080/"
        },
        "id": "JNcgsA0W6XBg",
        "outputId": "680c3f0f-f270-4437-e35b-85289af25879"
      },
      "execution_count": 29,
      "outputs": [
        {
          "output_type": "stream",
          "name": "stdout",
          "text": [
            "健康體位\n"
          ]
        }
      ]
    },
    {
      "cell_type": "code",
      "source": [
        "#用input取得的資料型態為：str\n",
        "#如果要做數值運算，需要轉型\n",
        "x=input(\"請輸入資料\")"
      ],
      "metadata": {
        "colab": {
          "base_uri": "https://localhost:8080/"
        },
        "id": "IBl7oUcs7YHh",
        "outputId": "2ec0b4d2-6ed7-4c4d-ff3c-b494f99296c5"
      },
      "execution_count": 31,
      "outputs": [
        {
          "name": "stdout",
          "output_type": "stream",
          "text": [
            "請輸入資料123\n"
          ]
        }
      ]
    },
    {
      "cell_type": "code",
      "source": [
        "x\n"
      ],
      "metadata": {
        "colab": {
          "base_uri": "https://localhost:8080/",
          "height": 36
        },
        "id": "QFMWxCZa7jJv",
        "outputId": "0962993c-df79-4e77-c59f-b846b455fefe"
      },
      "execution_count": 32,
      "outputs": [
        {
          "output_type": "execute_result",
          "data": {
            "text/plain": [
              "'123'"
            ],
            "application/vnd.google.colaboratory.intrinsic+json": {
              "type": "string"
            }
          },
          "metadata": {},
          "execution_count": 32
        }
      ]
    },
    {
      "cell_type": "code",
      "source": [
        "# 底下的 float() 是將 str 轉換成 float\n",
        "w = input(\"請輸入體重(公斤)：\")\n",
        "h = input(\"請輸入身高(公尺)：\")\n",
        "health2(float(w), float(h))"
      ],
      "metadata": {
        "colab": {
          "base_uri": "https://localhost:8080/",
          "height": 70
        },
        "id": "IGu1VXIh8gkg",
        "outputId": "4c394926-d899-4acf-8564-f7d3c5bd59d1"
      },
      "execution_count": 33,
      "outputs": [
        {
          "name": "stdout",
          "output_type": "stream",
          "text": [
            "請輸入體重(公斤)：80\n",
            "請輸入身高(公尺)：1.83\n"
          ]
        },
        {
          "output_type": "execute_result",
          "data": {
            "text/plain": [
              "'健康體位'"
            ],
            "application/vnd.google.colaboratory.intrinsic+json": {
              "type": "string"
            }
          },
          "metadata": {},
          "execution_count": 33
        }
      ]
    },
    {
      "cell_type": "markdown",
      "source": [
        "#Gradio使用簡介"
      ],
      "metadata": {
        "id": "__R0CVMr_0E-"
      }
    },
    {
      "cell_type": "code",
      "source": [
        "!pip install gradio"
      ],
      "metadata": {
        "id": "Mz8gxVNXAIc_"
      },
      "execution_count": null,
      "outputs": []
    },
    {
      "cell_type": "code",
      "source": [
        "def greet(name):\n",
        "  return \"Hello \" + name + \"!\"\n",
        "\n",
        "greet(\"World\")"
      ],
      "metadata": {
        "colab": {
          "base_uri": "https://localhost:8080/",
          "height": 36
        },
        "id": "kZGF9-y-Ai1m",
        "outputId": "da0613f6-a955-4738-dc82-97cc609c4c88"
      },
      "execution_count": 43,
      "outputs": [
        {
          "output_type": "execute_result",
          "data": {
            "text/plain": [
              "'Hello World!'"
            ],
            "application/vnd.google.colaboratory.intrinsic+json": {
              "type": "string"
            }
          },
          "metadata": {},
          "execution_count": 43
        }
      ]
    },
    {
      "cell_type": "code",
      "source": [
        "import gradio"
      ],
      "metadata": {
        "id": "TYp9XvO-A8Fu"
      },
      "execution_count": 44,
      "outputs": []
    },
    {
      "cell_type": "code",
      "source": [
        "gradio.Interface(greet, \"text\", \"text\",title=\"打招呼\").launch(share=True)"
      ],
      "metadata": {
        "colab": {
          "base_uri": "https://localhost:8080/",
          "height": 643
        },
        "id": "H1ZKefoUA_4u",
        "outputId": "2e59c08c-5d44-40f9-d83c-da35c4ada171"
      },
      "execution_count": 47,
      "outputs": [
        {
          "output_type": "stream",
          "name": "stdout",
          "text": [
            "Colab notebook detected. To show errors in colab notebook, set `debug=True` in `launch()`\n",
            "Running on public URL: https://40793.gradio.app\n",
            "\n",
            "This share link expires in 72 hours. For free permanent hosting, check out Spaces (https://huggingface.co/spaces)\n"
          ]
        },
        {
          "output_type": "display_data",
          "data": {
            "text/plain": [
              "<IPython.core.display.HTML object>"
            ],
            "text/html": [
              "<div><iframe src=\"https://40793.gradio.app\" width=\"900\" height=\"500\" allow=\"autoplay; camera; microphone;\" frameborder=\"0\" allowfullscreen></iframe></div>"
            ]
          },
          "metadata": {}
        },
        {
          "output_type": "execute_result",
          "data": {
            "text/plain": [
              "(<gradio.routes.App at 0x7f6ab4a00dd0>,\n",
              " 'http://127.0.0.1:7861/',\n",
              " 'https://40793.gradio.app')"
            ]
          },
          "metadata": {},
          "execution_count": 47
        }
      ]
    },
    {
      "cell_type": "code",
      "source": [
        "def health2(w, h):\n",
        "  bmi = float(w)/(float(h)**2)\n",
        "  if bmi < 18:\n",
        "    return \"體重過輕\"\n",
        "  elif bmi > 24:\n",
        "    return \"體重過重\"\n",
        "  else:\n",
        "    return \"健康體位\""
      ],
      "metadata": {
        "id": "tsnDWRgHC6LG"
      },
      "execution_count": 48,
      "outputs": []
    },
    {
      "cell_type": "code",
      "source": [
        "gradio.Interface(health2, [\"text\",\"text\"], \"text\", title=\"判斷體位狀況\").launch(share=True)"
      ],
      "metadata": {
        "colab": {
          "base_uri": "https://localhost:8080/",
          "height": 643
        },
        "id": "mTVd3oLLDGbe",
        "outputId": "f0275ea4-aef6-4788-de7e-e139d06e7386"
      },
      "execution_count": 49,
      "outputs": [
        {
          "output_type": "stream",
          "name": "stdout",
          "text": [
            "Colab notebook detected. To show errors in colab notebook, set `debug=True` in `launch()`\n",
            "Running on public URL: https://14750.gradio.app\n",
            "\n",
            "This share link expires in 72 hours. For free permanent hosting, check out Spaces (https://huggingface.co/spaces)\n"
          ]
        },
        {
          "output_type": "display_data",
          "data": {
            "text/plain": [
              "<IPython.core.display.HTML object>"
            ],
            "text/html": [
              "<div><iframe src=\"https://14750.gradio.app\" width=\"900\" height=\"500\" allow=\"autoplay; camera; microphone;\" frameborder=\"0\" allowfullscreen></iframe></div>"
            ]
          },
          "metadata": {}
        },
        {
          "output_type": "execute_result",
          "data": {
            "text/plain": [
              "(<gradio.routes.App at 0x7f6ab49964d0>,\n",
              " 'http://127.0.0.1:7862/',\n",
              " 'https://14750.gradio.app')"
            ]
          },
          "metadata": {},
          "execution_count": 49
        }
      ]
    },
    {
      "cell_type": "code",
      "source": [
        "def health3(w, h):\n",
        "  bmi = float(w)/(float(h)**2)\n",
        "  if bmi < 18:\n",
        "    return bmi, \"體重過輕\"\n",
        "  elif bmi > 24:\n",
        "    return bmi, \"體重過重\"\n",
        "  else:\n",
        "    return bmi, \"健康體位\""
      ],
      "metadata": {
        "id": "EEIex7okG4Wt"
      },
      "execution_count": 52,
      "outputs": []
    },
    {
      "cell_type": "code",
      "source": [
        "gradio.Interface(health3, [\"text\",\"text\"], [\"text\",\"text\"], title=\"判斷體位狀況\").launch(share=True)"
      ],
      "metadata": {
        "colab": {
          "base_uri": "https://localhost:8080/",
          "height": 643
        },
        "id": "FD3ahbScF7Lm",
        "outputId": "0a93161a-231e-4e1a-897e-5c427158527f"
      },
      "execution_count": 53,
      "outputs": [
        {
          "output_type": "stream",
          "name": "stdout",
          "text": [
            "Colab notebook detected. To show errors in colab notebook, set `debug=True` in `launch()`\n",
            "Running on public URL: https://22072.gradio.app\n",
            "\n",
            "This share link expires in 72 hours. For free permanent hosting, check out Spaces (https://huggingface.co/spaces)\n"
          ]
        },
        {
          "output_type": "display_data",
          "data": {
            "text/plain": [
              "<IPython.core.display.HTML object>"
            ],
            "text/html": [
              "<div><iframe src=\"https://22072.gradio.app\" width=\"900\" height=\"500\" allow=\"autoplay; camera; microphone;\" frameborder=\"0\" allowfullscreen></iframe></div>"
            ]
          },
          "metadata": {}
        },
        {
          "output_type": "execute_result",
          "data": {
            "text/plain": [
              "(<gradio.routes.App at 0x7f6ab755ff10>,\n",
              " 'http://127.0.0.1:7863/',\n",
              " 'https://22072.gradio.app')"
            ]
          },
          "metadata": {},
          "execution_count": 53
        }
      ]
    },
    {
      "cell_type": "code",
      "source": [
        "import requests"
      ],
      "metadata": {
        "id": "02iObGgsHsi4"
      },
      "execution_count": 54,
      "outputs": []
    },
    {
      "cell_type": "code",
      "source": [
        "def lookup(word):\n",
        "  url = f\"https://www.moedict.tw/uni/{word}\"\n",
        "  return requests.get(url).json()"
      ],
      "metadata": {
        "id": "ttBp8X9lHuGH"
      },
      "execution_count": 55,
      "outputs": []
    },
    {
      "cell_type": "code",
      "source": [
        "gradio.Interface(lookup, \"text\", \"text\", title=\"萌典API使用範例\").launch(share=True)"
      ],
      "metadata": {
        "colab": {
          "base_uri": "https://localhost:8080/",
          "height": 643
        },
        "id": "4mHwRgL_Hz45",
        "outputId": "59c78d5f-043e-4ad6-a1a4-8c43ec75155d"
      },
      "execution_count": 56,
      "outputs": [
        {
          "output_type": "stream",
          "name": "stdout",
          "text": [
            "Colab notebook detected. To show errors in colab notebook, set `debug=True` in `launch()`\n",
            "Running on public URL: https://54755.gradio.app\n",
            "\n",
            "This share link expires in 72 hours. For free permanent hosting, check out Spaces (https://huggingface.co/spaces)\n"
          ]
        },
        {
          "output_type": "display_data",
          "data": {
            "text/plain": [
              "<IPython.core.display.HTML object>"
            ],
            "text/html": [
              "<div><iframe src=\"https://54755.gradio.app\" width=\"900\" height=\"500\" allow=\"autoplay; camera; microphone;\" frameborder=\"0\" allowfullscreen></iframe></div>"
            ]
          },
          "metadata": {}
        },
        {
          "output_type": "execute_result",
          "data": {
            "text/plain": [
              "(<gradio.routes.App at 0x7f6ab75f6350>,\n",
              " 'http://127.0.0.1:7864/',\n",
              " 'https://54755.gradio.app')"
            ]
          },
          "metadata": {},
          "execution_count": 56
        }
      ]
    },
    {
      "cell_type": "code",
      "source": [
        "import requests"
      ],
      "metadata": {
        "id": "68Keb9NagNR5"
      },
      "execution_count": 57,
      "outputs": []
    },
    {
      "cell_type": "code",
      "source": [
        "url = \"https://victorgau.github.io/khpy_web_intro/html_only.html\""
      ],
      "metadata": {
        "id": "uhmUEFA-gQcl"
      },
      "execution_count": 58,
      "outputs": []
    },
    {
      "cell_type": "code",
      "source": [
        "r = requests.get(url)"
      ],
      "metadata": {
        "id": "ET2fjAoUgU2e"
      },
      "execution_count": 59,
      "outputs": []
    },
    {
      "cell_type": "code",
      "source": [
        "print(r.text)"
      ],
      "metadata": {
        "id": "JFhkcbZ9gavX",
        "outputId": "6a884c58-d1f7-4f4b-eaec-29c187ac39eb",
        "colab": {
          "base_uri": "https://localhost:8080/"
        }
      },
      "execution_count": 60,
      "outputs": [
        {
          "output_type": "stream",
          "name": "stdout",
          "text": [
            "<!DOCTYPE html>\n",
            "<html>\n",
            "<head>\n",
            "    <title>HTML範例</title>\n",
            "</head>\n",
            "<body>\n",
            "\n",
            "<h1>哈囉！HTML！</h1>\n",
            "\n",
            "<img src=\"ninja.jpg\" />\n",
            "\n",
            "</body>\n",
            "</html>\n"
          ]
        }
      ]
    }
  ]
}