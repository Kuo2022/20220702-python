{
  "nbformat": 4,
  "nbformat_minor": 0,
  "metadata": {
    "colab": {
      "name": "20220709-Python人工智慧應用班",
      "provenance": [],
      "authorship_tag": "ABX9TyO4laoagBU77dY1O1iqFSjc",
      "include_colab_link": true
    },
    "kernelspec": {
      "name": "python3",
      "display_name": "Python 3"
    },
    "language_info": {
      "name": "python"
    }
  },
  "cells": [
    {
      "cell_type": "markdown",
      "metadata": {
        "id": "view-in-github",
        "colab_type": "text"
      },
      "source": [
        "<a href=\"https://colab.research.google.com/github/Kuo2022/20220702-python/blob/main/20220709_Python%E4%BA%BA%E5%B7%A5%E6%99%BA%E6%85%A7%E6%87%89%E7%94%A8%E7%8F%AD.ipynb\" target=\"_parent\"><img src=\"https://colab.research.google.com/assets/colab-badge.svg\" alt=\"Open In Colab\"/></a>"
      ]
    },
    {
      "cell_type": "markdown",
      "source": [
        "##初學者需要知道的概念\n",
        "###資料型態\n",
        " •int==>整數(0,1,2,...)\n",
        " •float==>浮點數(3.14,1.1,...)\n",
        " •bool==>布林變數(True,False)\n",
        " •str==>字串\n",
        "###容器型別\n",
        " •list==〉串列[]\n",
        " •tuple==〉元組()\n",
        " •dict==〉字典{}\n",
        " •set==〉集合{}\n",
        "###基礎語法\n",
        " *loops==〉\n",
        " *functions==〉\n",
        " *if statements==〉\n",
        " *exception handling==〉"
      ],
      "metadata": {
        "id": "LHimHF3wgcp0"
      }
    }
  ]
}