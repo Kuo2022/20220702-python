{
  "nbformat": 4,
  "nbformat_minor": 0,
  "metadata": {
    "colab": {
      "name": "20220709-Python人工智慧應用班",
      "provenance": [],
      "authorship_tag": "ABX9TyOgwUTyJAaEFpyIjOD2b/RM",
      "include_colab_link": true
    },
    "kernelspec": {
      "name": "python3",
      "display_name": "Python 3"
    },
    "language_info": {
      "name": "python"
    }
  },
  "cells": [
    {
      "cell_type": "markdown",
      "metadata": {
        "id": "view-in-github",
        "colab_type": "text"
      },
      "source": [
        "<a href=\"https://colab.research.google.com/github/Kuo2022/20220702-python/blob/main/20220709_Python%E4%BA%BA%E5%B7%A5%E6%99%BA%E6%85%A7%E6%87%89%E7%94%A8%E7%8F%AD.ipynb\" target=\"_parent\"><img src=\"https://colab.research.google.com/assets/colab-badge.svg\" alt=\"Open In Colab\"/></a>"
      ]
    },
    {
      "cell_type": "markdown",
      "source": [
        "##初學者需要知道的概念\n",
        "###資料型態\n",
        " •int==>整數(0,1,2,...)\n",
        "\n",
        " •float==>浮點數(3.14,1.1,...)\n",
        "\n",
        " •bool==>布林變數(True,False)\n",
        "\n",
        " •str==>字串(\"dog\",\"cat\",...)\n",
        "###容器型別\n",
        " •list==〉串列[ ]\n",
        "\n",
        " •tuple==〉元組( )\n",
        "\n",
        " •dict==〉字典{ }\n",
        "\n",
        " •set==〉集合{ }\n",
        "###基礎語法\n",
        " •loops==〉迴圈：重複執行程式區塊。\n",
        "\n",
        " •functions==〉函式\n",
        "\n",
        " •if statements==〉條件式：選擇性執行程式區塊。\n",
        "\n",
        " •exception handling==〉例外處理\n",
        "\n",
        "\n"
      ],
      "metadata": {
        "id": "LHimHF3wgcp0"
      }
    },
    {
      "cell_type": "markdown",
      "source": [
        "##loops:for,while"
      ],
      "metadata": {
        "id": "aoKjFhFbmrRQ"
      }
    },
    {
      "cell_type": "markdown",
      "source": [
        "##for loops\n",
        "\n",
        "\n",
        "###基本語法\n",
        "\n",
        "...python\n",
        "\n",
        "for 變數 in 資料結構\n",
        "\n",
        " 程式區塊（裡面可以使用上面的變數）\n"
      ],
      "metadata": {
        "id": "Vv2dyJngm51e"
      }
    },
    {
      "cell_type": "code",
      "source": [
        ""
      ],
      "metadata": {
        "id": "2Xas42n_sGGv"
      },
      "execution_count": null,
      "outputs": []
    },
    {
      "cell_type": "code",
      "source": [
        "for i in range(3):\n",
        " print(\"程式區塊開始\")\n",
        " print(i)\n",
        " print(\"程式區塊結束\")"
      ],
      "metadata": {
        "id": "_Gnear5zoF_N",
        "outputId": "fbd78858-f68b-41fb-d13e-2e2498deb4e8",
        "colab": {
          "base_uri": "https://localhost:8080/"
        }
      },
      "execution_count": 9,
      "outputs": [
        {
          "output_type": "stream",
          "name": "stdout",
          "text": [
            "程式區塊開始\n",
            "0\n",
            "程式區塊結束\n",
            "程式區塊開始\n",
            "1\n",
            "程式區塊結束\n",
            "程式區塊開始\n",
            "2\n",
            "程式區塊結束\n"
          ]
        }
      ]
    },
    {
      "cell_type": "code",
      "source": [
        "#縮排變更的結果\n",
        "for i in range(3):\n",
        " print(\"程式區塊開始\")\n",
        " print(i)\n",
        "print(\"程式區塊結束\")"
      ],
      "metadata": {
        "id": "-IId9EfotBA9",
        "outputId": "e4859b67-f07a-435d-956e-250ebe7b2205",
        "colab": {
          "base_uri": "https://localhost:8080/"
        }
      },
      "execution_count": 13,
      "outputs": [
        {
          "output_type": "stream",
          "name": "stdout",
          "text": [
            "程式區塊開始\n",
            "0\n",
            "程式區塊開始\n",
            "1\n",
            "程式區塊開始\n",
            "2\n",
            "程式區塊結束\n"
          ]
        }
      ]
    },
    {
      "cell_type": "code",
      "source": [
        "#hint\n",
        "for i in range(2,10):\n",
        "  for j in range(2,10):\n",
        "   print(i,\"x\",j)"
      ],
      "metadata": {
        "id": "AbLNRDcZrIkV",
        "outputId": "8ed4ea51-8165-40c1-d6bb-45cdd971e7a2",
        "colab": {
          "base_uri": "https://localhost:8080/"
        }
      },
      "execution_count": 11,
      "outputs": [
        {
          "output_type": "stream",
          "name": "stdout",
          "text": [
            "2 x 2\n",
            "2 x 3\n",
            "2 x 4\n",
            "2 x 5\n",
            "2 x 6\n",
            "2 x 7\n",
            "2 x 8\n",
            "2 x 9\n",
            "3 x 2\n",
            "3 x 3\n",
            "3 x 4\n",
            "3 x 5\n",
            "3 x 6\n",
            "3 x 7\n",
            "3 x 8\n",
            "3 x 9\n",
            "4 x 2\n",
            "4 x 3\n",
            "4 x 4\n",
            "4 x 5\n",
            "4 x 6\n",
            "4 x 7\n",
            "4 x 8\n",
            "4 x 9\n",
            "5 x 2\n",
            "5 x 3\n",
            "5 x 4\n",
            "5 x 5\n",
            "5 x 6\n",
            "5 x 7\n",
            "5 x 8\n",
            "5 x 9\n",
            "6 x 2\n",
            "6 x 3\n",
            "6 x 4\n",
            "6 x 5\n",
            "6 x 6\n",
            "6 x 7\n",
            "6 x 8\n",
            "6 x 9\n",
            "7 x 2\n",
            "7 x 3\n",
            "7 x 4\n",
            "7 x 5\n",
            "7 x 6\n",
            "7 x 7\n",
            "7 x 8\n",
            "7 x 9\n",
            "8 x 2\n",
            "8 x 3\n",
            "8 x 4\n",
            "8 x 5\n",
            "8 x 6\n",
            "8 x 7\n",
            "8 x 8\n",
            "8 x 9\n",
            "9 x 2\n",
            "9 x 3\n",
            "9 x 4\n",
            "9 x 5\n",
            "9 x 6\n",
            "9 x 7\n",
            "9 x 8\n",
            "9 x 9\n"
          ]
        }
      ]
    },
    {
      "cell_type": "code",
      "source": [
        "#九九乘法表\n",
        "for i in range(2,10):\n",
        "  for j in range(2,10):\n",
        "   print(i,\"x\",j,\"=\",i*j)"
      ],
      "metadata": {
        "outputId": "9ff3b81d-3fc3-4762-90e5-88f7989ab7f9",
        "colab": {
          "base_uri": "https://localhost:8080/"
        },
        "id": "8qxtOG4yslbh"
      },
      "execution_count": 12,
      "outputs": [
        {
          "output_type": "stream",
          "name": "stdout",
          "text": [
            "2 x 2 = 4\n",
            "2 x 3 = 6\n",
            "2 x 4 = 8\n",
            "2 x 5 = 10\n",
            "2 x 6 = 12\n",
            "2 x 7 = 14\n",
            "2 x 8 = 16\n",
            "2 x 9 = 18\n",
            "3 x 2 = 6\n",
            "3 x 3 = 9\n",
            "3 x 4 = 12\n",
            "3 x 5 = 15\n",
            "3 x 6 = 18\n",
            "3 x 7 = 21\n",
            "3 x 8 = 24\n",
            "3 x 9 = 27\n",
            "4 x 2 = 8\n",
            "4 x 3 = 12\n",
            "4 x 4 = 16\n",
            "4 x 5 = 20\n",
            "4 x 6 = 24\n",
            "4 x 7 = 28\n",
            "4 x 8 = 32\n",
            "4 x 9 = 36\n",
            "5 x 2 = 10\n",
            "5 x 3 = 15\n",
            "5 x 4 = 20\n",
            "5 x 5 = 25\n",
            "5 x 6 = 30\n",
            "5 x 7 = 35\n",
            "5 x 8 = 40\n",
            "5 x 9 = 45\n",
            "6 x 2 = 12\n",
            "6 x 3 = 18\n",
            "6 x 4 = 24\n",
            "6 x 5 = 30\n",
            "6 x 6 = 36\n",
            "6 x 7 = 42\n",
            "6 x 8 = 48\n",
            "6 x 9 = 54\n",
            "7 x 2 = 14\n",
            "7 x 3 = 21\n",
            "7 x 4 = 28\n",
            "7 x 5 = 35\n",
            "7 x 6 = 42\n",
            "7 x 7 = 49\n",
            "7 x 8 = 56\n",
            "7 x 9 = 63\n",
            "8 x 2 = 16\n",
            "8 x 3 = 24\n",
            "8 x 4 = 32\n",
            "8 x 5 = 40\n",
            "8 x 6 = 48\n",
            "8 x 7 = 56\n",
            "8 x 8 = 64\n",
            "8 x 9 = 72\n",
            "9 x 2 = 18\n",
            "9 x 3 = 27\n",
            "9 x 4 = 36\n",
            "9 x 5 = 45\n",
            "9 x 6 = 54\n",
            "9 x 7 = 63\n",
            "9 x 8 = 72\n",
            "9 x 9 = 81\n"
          ]
        }
      ]
    }
  ]
}