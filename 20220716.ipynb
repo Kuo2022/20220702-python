{
  "cells": [
    {
      "cell_type": "markdown",
      "metadata": {
        "id": "view-in-github",
        "colab_type": "text"
      },
      "source": [
        "<a href=\"https://colab.research.google.com/github/Kuo2022/20220702-python/blob/main/20220716.ipynb\" target=\"_parent\"><img src=\"https://colab.research.google.com/assets/colab-badge.svg\" alt=\"Open In Colab\"/></a>"
      ]
    },
    {
      "cell_type": "markdown",
      "metadata": {
        "id": "_nTIVKzsjAyx"
      },
      "source": [
        "##20220709作業參考解答\n",
        "api網址：https://www.moedict.tw/a/%E8%90%8C.json"
      ]
    },
    {
      "cell_type": "code",
      "execution_count": null,
      "metadata": {
        "id": "E4CF6zjEhETp"
      },
      "outputs": [],
      "source": [
        "!pip install gradio"
      ]
    },
    {
      "cell_type": "code",
      "execution_count": null,
      "metadata": {
        "id": "Bf68zyupjL7d"
      },
      "outputs": [],
      "source": [
        "import requests"
      ]
    },
    {
      "cell_type": "code",
      "execution_count": null,
      "metadata": {
        "id": "JXUciC2VjZXm"
      },
      "outputs": [],
      "source": [
        "def lookup(word):\n",
        "  url = \"https://www.moedict.tw/a/\"\n",
        "  data = requests.get(url + word+ \".json\").json()\n",
        "  return data['English']"
      ]
    },
    {
      "cell_type": "code",
      "execution_count": null,
      "metadata": {
        "colab": {
          "base_uri": "https://localhost:8080/",
          "height": 36
        },
        "id": "yXvM7Kg4kHLO",
        "outputId": "664bad6d-3e01-4af3-e822-2b4cab60a65e"
      },
      "outputs": [
        {
          "data": {
            "application/vnd.google.colaboratory.intrinsic+json": {
              "type": "string"
            },
            "text/plain": [
              "'classroom'"
            ]
          },
          "execution_count": 6,
          "metadata": {},
          "output_type": "execute_result"
        }
      ],
      "source": [
        "lookup(\"教室\")"
      ]
    },
    {
      "cell_type": "code",
      "execution_count": null,
      "metadata": {
        "id": "N_N46v90kPCt"
      },
      "outputs": [],
      "source": [
        "import gradio"
      ]
    },
    {
      "cell_type": "code",
      "execution_count": null,
      "metadata": {
        "colab": {
          "base_uri": "https://localhost:8080/",
          "height": 643
        },
        "id": "Er3vYlLxkW_8",
        "outputId": "eca29f24-a1ba-4c7c-90fd-1986891a2c2c"
      },
      "outputs": [
        {
          "name": "stdout",
          "output_type": "stream",
          "text": [
            "Colab notebook detected. To show errors in colab notebook, set `debug=True` in `launch()`\n",
            "Running on public URL: https://16366.gradio.app\n",
            "\n",
            "This share link expires in 72 hours. For free permanent hosting, check out Spaces (https://huggingface.co/spaces)\n"
          ]
        },
        {
          "data": {
            "text/html": [
              "<div><iframe src=\"https://16366.gradio.app\" width=\"900\" height=\"500\" allow=\"autoplay; camera; microphone;\" frameborder=\"0\" allowfullscreen></iframe></div>"
            ],
            "text/plain": [
              "<IPython.core.display.HTML object>"
            ]
          },
          "metadata": {},
          "output_type": "display_data"
        },
        {
          "data": {
            "text/plain": [
              "(<gradio.routes.App at 0x7f4503871f90>,\n",
              " 'http://127.0.0.1:7860/',\n",
              " 'https://16366.gradio.app')"
            ]
          },
          "execution_count": 8,
          "metadata": {},
          "output_type": "execute_result"
        }
      ],
      "source": [
        "gradio.Interface(lookup, \"text\", \"text\", title=\"漢英字典\").launch(share=True)"
      ]
    },
    {
      "cell_type": "markdown",
      "metadata": {
        "id": "d7JRVVnQn0zf"
      },
      "source": [
        "## 註冊 ZeroJudge\n",
        "\n",
        "https://zerojudge.tw/\n",
        "\n",
        "解解看底下題目：\n",
        "* https://zerojudge.tw/ShowProblem?problemid=a002\n",
        "* https://zerojudge.tw/ShowProblem?problemid=a003"
      ]
    },
    {
      "cell_type": "markdown",
      "source": [
        "## 基本語法\n",
        "\n",
        "* 迴圈 (loops) => for, while\n",
        "* 函式 (functions)\n",
        "* 條件式 (if statements)\n",
        "* 例外處理 (Exception Handling) "
      ],
      "metadata": {
        "id": "LV-oN62UzHi2"
      }
    },
    {
      "cell_type": "markdown",
      "source": [
        "### 例外處理"
      ],
      "metadata": {
        "id": "GR-FpGKUzVvs"
      }
    },
    {
      "cell_type": "code",
      "source": [
        "def add(x, y):\n",
        "  print(f\"{x} + {y} = {x + y}\")\n",
        "\n",
        "def sub(x, y):\n",
        "  print(f\"{x} - {y} = {x - y}\")\n",
        "\n",
        "def mul(x, y):\n",
        "  print(f\"{x} x {y} = {x * y}\")\n",
        "\n",
        "def div(x, y):\n",
        "  print(f\"{x} / {y} = {x / y}\")"
      ],
      "metadata": {
        "id": "7vTWrN0azZD9"
      },
      "execution_count": 16,
      "outputs": []
    },
    {
      "cell_type": "code",
      "source": [
        "functions = [add, div, mul, sub]"
      ],
      "metadata": {
        "id": "X9Rv44QJzfhe"
      },
      "execution_count": 17,
      "outputs": []
    },
    {
      "cell_type": "code",
      "source": [
        "add(2, 1)"
      ],
      "metadata": {
        "colab": {
          "base_uri": "https://localhost:8080/"
        },
        "id": "U7OsnQsJzhI7",
        "outputId": "85c88c55-9bb7-41a7-9f2b-847fb99345af"
      },
      "execution_count": 18,
      "outputs": [
        {
          "output_type": "stream",
          "name": "stdout",
          "text": [
            "2 + 1 = 3\n"
          ]
        }
      ]
    },
    {
      "cell_type": "code",
      "source": [
        "x = 4\n",
        "y = 2\n",
        "for func in functions:\n",
        "  func(x, y)"
      ],
      "metadata": {
        "colab": {
          "base_uri": "https://localhost:8080/"
        },
        "id": "zfdojYSnzldz",
        "outputId": "dba11cfa-1c4a-42e5-cc02-1ba400c90f86"
      },
      "execution_count": 19,
      "outputs": [
        {
          "output_type": "stream",
          "name": "stdout",
          "text": [
            "4 + 2 = 6\n",
            "4 / 2 = 2.0\n",
            "4 x 2 = 8\n",
            "4 - 2 = 2\n"
          ]
        }
      ]
    },
    {
      "cell_type": "markdown",
      "metadata": {
        "id": "D8Da4Es2oADf"
      },
      "source": [
        "## 資料分析簡介\n",
        "* Numpy\n",
        "  * Numerical Python\n",
        "  * 科學運算基礎套件\n",
        "* MatPlotLib\n",
        "  * Matrix Plotting Library\n",
        "  * 繪圖基礎套件\n",
        "* Pandas\n",
        "  * Panel Data\n",
        "  * 資料分析基礎套件"
      ]
    },
    {
      "cell_type": "markdown",
      "metadata": {
        "id": "oN-8jvWZquQk"
      },
      "source": [
        "```python\n",
        "import numpy as np【別名】\n",
        "import matplotlib.pyplot as plt\n",
        "import pandas as pd\n",
        "```"
      ]
    },
    {
      "cell_type": "markdown",
      "metadata": {
        "id": "EcW36FzrqVUf"
      },
      "source": [
        "## Numpy\n",
        "\n",
        "* new data type\n",
        "  * ndarray => Multi-Dimentional Array\n",
        "* new functions to process data\n",
        "  * ufunc => Universal Functions"
      ]
    },
    {
      "cell_type": "code",
      "execution_count": null,
      "metadata": {
        "id": "kQ5AmzPtr-gH"
      },
      "outputs": [],
      "source": [
        "x1 = [1, 2, 3]\n",
        "x2 = [4, 5, 6]"
      ]
    },
    {
      "cell_type": "code",
      "execution_count": null,
      "metadata": {
        "colab": {
          "base_uri": "https://localhost:8080/"
        },
        "id": "MHuHv6JgsTOQ",
        "outputId": "fbbad586-95bc-4e5a-cb5d-daf8e46e6fee"
      },
      "outputs": [
        {
          "data": {
            "text/plain": [
              "[1, 2, 3, 4, 5, 6]"
            ]
          },
          "execution_count": 10,
          "metadata": {},
          "output_type": "execute_result"
        }
      ],
      "source": [
        "#向量相加 下列算式是錯誤的\n",
        "x1 + x2"
      ]
    },
    {
      "cell_type": "code",
      "execution_count": null,
      "metadata": {
        "colab": {
          "base_uri": "https://localhost:8080/"
        },
        "id": "7Xm9qgM8s3ll",
        "outputId": "45355c75-a280-4986-8822-6f8e011ab3a0"
      },
      "outputs": [
        {
          "data": {
            "text/plain": [
              "[1, 2, 3, 1, 2, 3]"
            ]
          },
          "execution_count": 11,
          "metadata": {},
          "output_type": "execute_result"
        }
      ],
      "source": [
        "#向量乘法 下列算式是錯誤的\n",
        "2*x1"
      ]
    },
    {
      "cell_type": "code",
      "execution_count": 15,
      "metadata": {
        "id": "KjfO-xzxtSeK"
      },
      "outputs": [],
      "source": [
        "#向量運算\n",
        "x3 = []\n",
        "for i, j in zip(x1, x2):\n",
        "  x3.append(i + j)"
      ]
    }
  ],
  "metadata": {
    "colab": {
      "name": "20220716.ipynb",
      "provenance": [],
      "authorship_tag": "ABX9TyO3bnkBbPdYR71m500TiXRy",
      "include_colab_link": true
    },
    "kernelspec": {
      "display_name": "Python 3",
      "name": "python3"
    },
    "language_info": {
      "name": "python"
    }
  },
  "nbformat": 4,
  "nbformat_minor": 0
}